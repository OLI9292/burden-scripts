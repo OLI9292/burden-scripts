{
 "cells": [
  {
   "cell_type": "code",
   "execution_count": 4,
   "metadata": {
    "ExecuteTime": {
     "end_time": "2017-01-20T09:18:27.752319",
     "start_time": "2017-01-20T09:18:27.748970"
    },
    "collapsed": true,
    "run_control": {
     "frozen": false,
     "read_only": false
    }
   },
   "outputs": [],
   "source": [
    "# Date: January 19, 2017\n",
    "# Author: Oliver Plunket\n",
    "#\n",
    "# Description: a script to be used on csv files containing artist rosters and organization verifications for burden-api\n",
    "# galleries.  The script will output two csvs ready to imported into burden by way of the ImportArtistRostersService\n",
    "# and the ImportOrganizationVerificationsService.  This script requires the following headers:\n",
    "#\n",
    "#      Burden ID, Name, Domain, Type of Organization, Artists are..., Artists\n",
    "#"
   ]
  },
  {
   "cell_type": "code",
   "execution_count": 1,
   "metadata": {
    "ExecuteTime": {
     "end_time": "2017-01-25T08:54:05.605829",
     "start_time": "2017-01-25T08:54:05.067270"
    },
    "collapsed": true,
    "run_control": {
     "frozen": false,
     "read_only": false
    }
   },
   "outputs": [],
   "source": [
    "import pandas as pd\n",
    "\n",
    "# import csv exported from G Sheets\n",
    "df = pd.read_csv('RandomizedSample.csv', encoding='utf-8')\n",
    "\n",
    "# clean headers\n",
    "df = df.rename(columns={'Burden ID': 'organization_id',\n",
    "                        'Name': 'name',\n",
    "                        'Type of Organization': 'organization_type',\n",
    "                        'Artists are...': 'artist_type'})\n",
    "\n",
    "# only data rows\n",
    "df = df.loc[~(df.organization_id.isnull() | df.organization_id.str.contains('[a-zA-Z]', regex=True))]"
   ]
  },
  {
   "cell_type": "markdown",
   "metadata": {},
   "source": [
    "***Organization Verifications***"
   ]
  },
  {
   "cell_type": "code",
   "execution_count": 2,
   "metadata": {
    "ExecuteTime": {
     "end_time": "2017-01-25T08:54:09.146362",
     "start_time": "2017-01-25T08:54:09.119884"
    },
    "collapsed": false,
    "run_control": {
     "frozen": false,
     "read_only": false
    }
   },
   "outputs": [
    {
     "name": "stderr",
     "output_type": "stream",
     "text": [
      "/Users/oliver/anaconda/lib/python2.7/site-packages/ipykernel/__main__.py:10: UserWarning: This pattern has match groups. To actually get the groups, use str.extract.\n"
     ]
    }
   ],
   "source": [
    "# columns\n",
    "cols = ['organization_id', 'organization_type']\n",
    "org_vers = df[cols].fillna('')\n",
    "org_vers['notes'] = ''\n",
    "org_vers['score'] = ''\n",
    "\n",
    "# turn answers into scores\n",
    "org_vers.score.loc[org_vers.organization_type == 'Gallery'] = 2\n",
    "org_vers.score.loc[org_vers.organization_type != 'Gallery'] = 1\n",
    "org_vers.notes.loc[~org_vers.organization_type.str.contains('(Gallery|Other)', regex=True)] = org_vers.organization_type.str.lower()\n",
    "\n",
    "org_vers = org_vers.drop('organization_type', axis=1)\n",
    "org_vers = org_vers.sort_values(by='organization_id').reset_index(drop=True)"
   ]
  },
  {
   "cell_type": "code",
   "execution_count": 14,
   "metadata": {
    "ExecuteTime": {
     "end_time": "2017-01-25T09:03:59.110900",
     "start_time": "2017-01-25T09:03:59.101426"
    },
    "collapsed": false
   },
   "outputs": [
    {
     "data": {
      "text/html": [
       "<div>\n",
       "<table border=\"1\" class=\"dataframe\">\n",
       "  <thead>\n",
       "    <tr style=\"text-align: right;\">\n",
       "      <th></th>\n",
       "      <th>organization_id</th>\n",
       "      <th>notes</th>\n",
       "      <th>score</th>\n",
       "    </tr>\n",
       "  </thead>\n",
       "  <tbody>\n",
       "    <tr>\n",
       "      <th>0</th>\n",
       "      <td>10363</td>\n",
       "      <td></td>\n",
       "      <td>1</td>\n",
       "    </tr>\n",
       "    <tr>\n",
       "      <th>1</th>\n",
       "      <td>10470</td>\n",
       "      <td></td>\n",
       "      <td>1</td>\n",
       "    </tr>\n",
       "    <tr>\n",
       "      <th>2</th>\n",
       "      <td>10602</td>\n",
       "      <td></td>\n",
       "      <td>1</td>\n",
       "    </tr>\n",
       "    <tr>\n",
       "      <th>3</th>\n",
       "      <td>10913</td>\n",
       "      <td></td>\n",
       "      <td>2</td>\n",
       "    </tr>\n",
       "    <tr>\n",
       "      <th>4</th>\n",
       "      <td>10992</td>\n",
       "      <td></td>\n",
       "      <td>1</td>\n",
       "    </tr>\n",
       "  </tbody>\n",
       "</table>\n",
       "</div>"
      ],
      "text/plain": [
       "  organization_id notes score\n",
       "0           10363           1\n",
       "1           10470           1\n",
       "2           10602           1\n",
       "3           10913           2\n",
       "4           10992           1"
      ]
     },
     "execution_count": 14,
     "metadata": {},
     "output_type": "execute_result"
    }
   ],
   "source": [
    "org_vers.head()"
   ]
  },
  {
   "cell_type": "code",
   "execution_count": 9,
   "metadata": {
    "ExecuteTime": {
     "end_time": "2017-01-25T08:55:50.559054",
     "start_time": "2017-01-25T08:55:50.547892"
    },
    "collapsed": true,
    "run_control": {
     "frozen": false,
     "read_only": false
    }
   },
   "outputs": [],
   "source": [
    "org_vers.to_csv('/Users/oliver/burden-scripts/randomized_sample/randomized_sample_org_vers.csv', encoding='utf-8', index=False)"
   ]
  },
  {
   "cell_type": "markdown",
   "metadata": {
    "ExecuteTime": {
     "end_time": "2017-01-19T18:11:46.095549",
     "start_time": "2017-01-19T18:11:46.091136"
    }
   },
   "source": [
    "***Artist Rosters***"
   ]
  },
  {
   "cell_type": "code",
   "execution_count": 4,
   "metadata": {
    "ExecuteTime": {
     "end_time": "2017-01-25T08:54:31.668398",
     "start_time": "2017-01-25T08:54:23.336813"
    },
    "collapsed": false,
    "run_control": {
     "frozen": false,
     "read_only": false
    }
   },
   "outputs": [],
   "source": [
    "df = df.fillna('')\n",
    "\n",
    "headers = list(df.columns.values)\n",
    "artist_headers = headers[headers.index('Notes')+1:]\n",
    "rosters_headers = headers[:headers.index('artist_type')+1]\n",
    "\n",
    "rosters = pd.DataFrame()\n",
    "\n",
    "# takes a minute\n",
    "for i in df.index.values:\n",
    "    row = df.ix[i]\n",
    "    for x in artist_headers:\n",
    "        if row[x] != '':\n",
    "            artist = row[x]\n",
    "            single_artist_row = row[rosters_headers]\n",
    "            single_artist_row['artist'] = artist\n",
    "            rosters = rosters.append(single_artist_row, ignore_index=True)"
   ]
  },
  {
   "cell_type": "code",
   "execution_count": 28,
   "metadata": {
    "ExecuteTime": {
     "end_time": "2017-01-25T09:09:44.936146",
     "start_time": "2017-01-25T09:09:44.853935"
    },
    "collapsed": false,
    "run_control": {
     "frozen": false,
     "read_only": false
    }
   },
   "outputs": [],
   "source": [
    "# cleanup\n",
    "for x in df.columns.values:\n",
    "    df[x] = df[x].str.strip()\n",
    "\n",
    "rosters.artist_type.loc[rosters.artist_type == 'Unknown'] = ''\n",
    "rosters.artist = rosters.artist.str.title()\n",
    "rosters.artist_type = rosters.artist_type.str.lower()\n",
    "\n",
    "cols = ['organization_id', 'artist', 'artist_type']\n",
    "rosters = rosters[cols]\n",
    "# current project isn't collecting notes\n",
    "rosters['notes'] = ''\n",
    "\n",
    "for header in rosters.columns.values:\n",
    "    rosters[header] = rosters[header].str.replace(r'\\\\r','')\n",
    "    rosters[header] = rosters[header].str.replace(r'\\\\n','')\n",
    "    rosters[header] = rosters[header].str.replace(r'\\\\t','')\n",
    "\n",
    "rosters = rosters.sort_values(by='organization_id').reset_index(drop=True)"
   ]
  },
  {
   "cell_type": "code",
   "execution_count": 29,
   "metadata": {
    "ExecuteTime": {
     "end_time": "2017-01-25T09:09:45.274215",
     "start_time": "2017-01-25T09:09:45.270531"
    },
    "collapsed": false
   },
   "outputs": [],
   "source": [
    "if set(rosters.artist_type.value_counts().index.values) != set(['', 'exhibited', 'represented']):\n",
    "    print 'Invalid artist_type. Only exhibited and represented are valid types.'"
   ]
  },
  {
   "cell_type": "code",
   "execution_count": 30,
   "metadata": {
    "ExecuteTime": {
     "end_time": "2017-01-25T09:09:46.667918",
     "start_time": "2017-01-25T09:09:46.656983"
    },
    "collapsed": false
   },
   "outputs": [
    {
     "data": {
      "text/html": [
       "<div>\n",
       "<table border=\"1\" class=\"dataframe\">\n",
       "  <thead>\n",
       "    <tr style=\"text-align: right;\">\n",
       "      <th></th>\n",
       "      <th>organization_id</th>\n",
       "      <th>artist</th>\n",
       "      <th>artist_type</th>\n",
       "      <th>notes</th>\n",
       "    </tr>\n",
       "  </thead>\n",
       "  <tbody>\n",
       "    <tr>\n",
       "      <th>0</th>\n",
       "      <td>10913</td>\n",
       "      <td>Lena Johansson</td>\n",
       "      <td></td>\n",
       "      <td></td>\n",
       "    </tr>\n",
       "    <tr>\n",
       "      <th>1</th>\n",
       "      <td>10913</td>\n",
       "      <td>Paco Pomet</td>\n",
       "      <td></td>\n",
       "      <td></td>\n",
       "    </tr>\n",
       "    <tr>\n",
       "      <th>2</th>\n",
       "      <td>10913</td>\n",
       "      <td>Eva Larsson</td>\n",
       "      <td></td>\n",
       "      <td></td>\n",
       "    </tr>\n",
       "    <tr>\n",
       "      <th>3</th>\n",
       "      <td>10913</td>\n",
       "      <td>Johan Nobell</td>\n",
       "      <td></td>\n",
       "      <td></td>\n",
       "    </tr>\n",
       "    <tr>\n",
       "      <th>4</th>\n",
       "      <td>10913</td>\n",
       "      <td>Kaspar Bonnen</td>\n",
       "      <td></td>\n",
       "      <td></td>\n",
       "    </tr>\n",
       "  </tbody>\n",
       "</table>\n",
       "</div>"
      ],
      "text/plain": [
       "  organization_id          artist artist_type notes\n",
       "0           10913  Lena Johansson                  \n",
       "1           10913      Paco Pomet                  \n",
       "2           10913     Eva Larsson                  \n",
       "3           10913    Johan Nobell                  \n",
       "4           10913   Kaspar Bonnen                  "
      ]
     },
     "execution_count": 30,
     "metadata": {},
     "output_type": "execute_result"
    }
   ],
   "source": [
    "rosters.head()"
   ]
  },
  {
   "cell_type": "code",
   "execution_count": 31,
   "metadata": {
    "ExecuteTime": {
     "end_time": "2017-01-25T09:10:18.414885",
     "start_time": "2017-01-25T09:10:18.381793"
    },
    "collapsed": true,
    "run_control": {
     "frozen": false,
     "read_only": false
    }
   },
   "outputs": [],
   "source": [
    "rosters.to_csv('/Users/oliver/burden-scripts/randomized_sample/rs_rosters.csv', encoding='utf-8', index=False)"
   ]
  },
  {
   "cell_type": "code",
   "execution_count": null,
   "metadata": {
    "collapsed": true
   },
   "outputs": [],
   "source": []
  }
 ],
 "metadata": {
  "hide_input": false,
  "kernelspec": {
   "display_name": "Python 2",
   "language": "python",
   "name": "python2"
  },
  "language_info": {
   "codemirror_mode": {
    "name": "ipython",
    "version": 2
   },
   "file_extension": ".py",
   "mimetype": "text/x-python",
   "name": "python",
   "nbconvert_exporter": "python",
   "pygments_lexer": "ipython2",
   "version": "2.7.10"
  }
 },
 "nbformat": 4,
 "nbformat_minor": 0
}
