{
 "cells": [
  {
   "cell_type": "code",
   "execution_count": 4,
   "metadata": {
    "ExecuteTime": {
     "end_time": "2017-01-20T09:18:27.752319",
     "start_time": "2017-01-20T09:18:27.748970"
    },
    "collapsed": true,
    "run_control": {
     "frozen": false,
     "read_only": false
    }
   },
   "outputs": [],
   "source": [
    "# Date: January 19, 2017\n",
    "# Author: Oliver Plunket\n",
    "#\n",
    "# Description: a script to be used on csv files containing artist rosters and organization verifications for burden-api\n",
    "# galleries.  The script will output two csvs ready to imported into burden by way of the ImportArtistRostersService\n",
    "# and the ImportOrganizationVerificationsService.  This script requires the following headers:\n",
    "#\n",
    "#      Burden ID, Name, Domain, Type of Organization, Artists are..., Artists\n",
    "#"
   ]
  },
  {
   "cell_type": "code",
   "execution_count": 5,
   "metadata": {
    "ExecuteTime": {
     "end_time": "2017-01-20T09:18:28.166434",
     "start_time": "2017-01-20T09:18:28.120588"
    },
    "collapsed": true,
    "run_control": {
     "frozen": false,
     "read_only": false
    }
   },
   "outputs": [],
   "source": [
    "import pandas as pd\n",
    "\n",
    "# import csv exported from G Sheets\n",
    "df = pd.read_csv('<path to csv>', encoding='utf-8')\n",
    "\n",
    "# clean headers\n",
    "df = df.rename(columns={'Burden ID': 'organization_id',\n",
    "                        'Name': 'name',\n",
    "                        'Type of Organization': 'organization_type',\n",
    "                        'Artists are...': 'artist_type'})\n",
    "\n",
    "# only data rows\n",
    "df = df.loc[~(df.organization_id.isnull() | df.organization_id.str.contains('[a-zA-Z]', regex=True))]"
   ]
  },
  {
   "cell_type": "markdown",
   "metadata": {},
   "source": [
    "***Organization Verifications***"
   ]
  },
  {
   "cell_type": "code",
   "execution_count": 7,
   "metadata": {
    "ExecuteTime": {
     "end_time": "2017-01-20T09:18:32.266571",
     "start_time": "2017-01-20T09:18:32.241470"
    },
    "collapsed": false,
    "run_control": {
     "frozen": false,
     "read_only": false
    }
   },
   "outputs": [],
   "source": [
    "# columns\n",
    "cols = ['organization_id', 'organization_type']\n",
    "org_vers = df[cols].fillna('')\n",
    "org_vers['notes'] = ''\n",
    "org_vers['score'] = ''\n",
    "\n",
    "# turn answers into scores\n",
    "org_vers.score.loc[org_vers.organization_type == 'Gallery'] = 2\n",
    "org_vers.score.loc[org_vers.organization_type != 'Gallery'] = 1\n",
    "org_vers.notes.loc[~org_vers.organization_type.str.contains('(Gallery|Other)', regex=True)] = org_vers.organization_type.str.lower()\n",
    "\n",
    "org_vers = org_vers.drop('organization_type', axis=1)\n",
    "org_vers = org_vers.sort_values(by='organization_id').reset_index(drop=True)"
   ]
  },
  {
   "cell_type": "code",
   "execution_count": null,
   "metadata": {
    "collapsed": true,
    "run_control": {
     "frozen": false,
     "read_only": false
    }
   },
   "outputs": [],
   "source": [
    "org_vers.to_csv('<desired file path for download>', encoding='utf-8', index=False)"
   ]
  },
  {
   "cell_type": "markdown",
   "metadata": {
    "ExecuteTime": {
     "end_time": "2017-01-19T18:11:46.095549",
     "start_time": "2017-01-19T18:11:46.091136"
    }
   },
   "source": [
    "***Artist Rosters***"
   ]
  },
  {
   "cell_type": "code",
   "execution_count": 19,
   "metadata": {
    "ExecuteTime": {
     "end_time": "2017-01-20T09:25:55.328606",
     "start_time": "2017-01-20T09:24:45.926860"
    },
    "collapsed": false,
    "run_control": {
     "frozen": false,
     "read_only": false
    }
   },
   "outputs": [],
   "source": [
    "df = df.fillna('')\n",
    "\n",
    "headers = list(df.columns.values)\n",
    "artist_headers = headers[headers.index('Notes')+1:]\n",
    "rosters_headers = headers[:headers.index('artist_type')+1]\n",
    "\n",
    "rosters = pd.DataFrame()\n",
    "\n",
    "# takes a minute\n",
    "for i in df.index.values:\n",
    "    row = df.ix[i]\n",
    "    for x in artist_headers:\n",
    "        if row[x] != '':\n",
    "            artist = row[x]\n",
    "            single_artist_row = row[rosters_headers]\n",
    "            single_artist_row['artist'] = artist\n",
    "            rosters = rosters.append(single_artist_row, ignore_index=True)"
   ]
  },
  {
   "cell_type": "code",
   "execution_count": 13,
   "metadata": {
    "ExecuteTime": {
     "end_time": "2017-01-20T09:21:56.056889",
     "start_time": "2017-01-20T09:21:55.938551"
    },
    "collapsed": false,
    "run_control": {
     "frozen": false,
     "read_only": false
    }
   },
   "outputs": [],
   "source": [
    "# cleanup\n",
    "for x in df.columns.values:\n",
    "    df[x] = df[x].str.strip()\n",
    "\n",
    "rosters.artist_type.loc[rosters.artist_type == 'Unknown'] = ''\n",
    "rosters.artist = rosters.artist.str.title()\n",
    "\n",
    "cols = ['organization_id', 'artist', 'artist_type']\n",
    "rosters = rosters[cols]\n",
    "# current project isn't collecting notes\n",
    "rosters['notes'] = ''\n",
    "\n",
    "rosters = rosters.sort_values(by='organization_id').reset_index(drop=True)"
   ]
  },
  {
   "cell_type": "code",
   "execution_count": null,
   "metadata": {
    "collapsed": true,
    "run_control": {
     "frozen": false,
     "read_only": false
    }
   },
   "outputs": [],
   "source": [
    "rosters.to_csv('<desired file path for download>', encoding='utf-8', index=False)"
   ]
  }
 ],
 "metadata": {
  "hide_input": false,
  "kernelspec": {
   "display_name": "Python 2",
   "language": "python",
   "name": "python2"
  },
  "language_info": {
   "codemirror_mode": {
    "name": "ipython",
    "version": 2
   },
   "file_extension": ".py",
   "mimetype": "text/x-python",
   "name": "python",
   "nbconvert_exporter": "python",
   "pygments_lexer": "ipython2",
   "version": "2.7.10"
  }
 },
 "nbformat": 4,
 "nbformat_minor": 0
}
